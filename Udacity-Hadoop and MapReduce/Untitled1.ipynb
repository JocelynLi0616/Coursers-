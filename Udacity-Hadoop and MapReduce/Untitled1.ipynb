{
 "cells": [
  {
   "cell_type": "code",
   "execution_count": 1,
   "metadata": {
    "collapsed": false
   },
   "outputs": [
    {
     "ename": "SyntaxError",
     "evalue": "invalid syntax (<ipython-input-1-aa65da28b704>, line 22)",
     "output_type": "error",
     "traceback": [
      "\u001b[0;36m  File \u001b[0;32m\"<ipython-input-1-aa65da28b704>\"\u001b[0;36m, line \u001b[0;32m22\u001b[0m\n\u001b[0;31m    print \"{0}\\t{1}\".format(store, cost)\u001b[0m\n\u001b[0m                   ^\u001b[0m\n\u001b[0;31mSyntaxError\u001b[0m\u001b[0;31m:\u001b[0m invalid syntax\n"
     ]
    }
   ],
   "source": [
    "# Your task is to make sure that this mapper code does not fail on corrupt data lines,\n",
    "# but instead just ignores them and continues working\n",
    "import sys\n",
    "\n",
    "def mapper():\n",
    "    # read standard input line by line\n",
    "    for line in sys.stdin:\n",
    "        # strip off extra whitespace, split on tab and put the data in an array\n",
    "        data = line.strip().split(\"\\t\")\n",
    "\n",
    "        # This is the place you need to do some defensive programming\n",
    "        # what if there are not exactly 6 fields in that line?\n",
    "        # YOUR CODE HERE\n",
    "    if len(data)== 6:\n",
    "        # this next line is called 'multiple assignment' in Python\n",
    "        # this is not really necessary, we could access the data\n",
    "        # with data[2] and data[5], but we do this for conveniency\n",
    "        # and to make the code easier to read\n",
    "        date, time, store, item, cost, payment = data\n",
    "        \n",
    "        # Now print out the data that will be passed to the reducer\n",
    "        print \"{0}\\t{1}\".format(store, cost)\n",
    "        \n",
    "test_text = \"\"\"2013-10-09\\t13:22\\tMiami\\tBoots\\t99.95\\tVisa\n",
    "2013-10-09\\t13:22\\tNew York\\tDVD\\t9.50\\tMasterCard\n",
    "2013-10-09 13:22:59 I/O Error\n",
    "^d8x28orz28zoijzu1z1zp1OHH3du3ixwcz114<f\n",
    "1\\t2\\t3\"\"\"\n",
    "\n",
    "# This function allows you to test the mapper with the provided test string\n",
    "def main():\n",
    "\timport StringIO\n",
    "\tsys.stdin = StringIO.StringIO(test_text)\n",
    "\tmapper()\n",
    "\tsys.stdin = sys.__stdin__"
   ]
  }
 ],
 "metadata": {
  "kernelspec": {
   "display_name": "Python 3",
   "language": "python",
   "name": "python3"
  }
 },
 "nbformat": 4,
 "nbformat_minor": 2
}
